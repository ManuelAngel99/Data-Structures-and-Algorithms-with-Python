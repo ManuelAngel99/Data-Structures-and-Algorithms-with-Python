{
 "cells": [
  {
   "cell_type": "markdown",
   "metadata": {},
   "source": [
    "# Strings"
   ]
  },
  {
   "cell_type": "markdown",
   "metadata": {},
   "source": [
    "A string is a sequence of characters that come from some alphabet. In Python, the\n",
    "built-in str class represents strings based upon the **Unicode international character\n",
    "set, a 16-bit character encoding** that covers most written languages. Unicode is\n",
    "an extension of the 7-bit ASCII character set that includes the basic Latin alphabet, numerals, and common symbols\n",
    "\n",
    "We can declare a Python string using a single quote, a double quote, a triple quote, or the str() function. The following code snippet shows how to declare a string in Python:"
   ]
  },
  {
   "cell_type": "code",
   "execution_count": 2,
   "metadata": {},
   "outputs": [],
   "source": [
    "# A single quote string\n",
    "single_quote = 'a'  # This is an example of a character in other programming languages. It is a string in Python\n",
    "\n",
    "# Another single quote string\n",
    "another_single_quote = 'Programming teaches you patience.'\n",
    "\n",
    "# A double quote string\n",
    "double_quote = \"aa\"\n",
    "\n",
    "# Another double-quote string\n",
    "another_double_quote = \"It is impossible until it is done!\"\n",
    "\n",
    "# A triple quote string\n",
    "triple_quote = '''aaa'''\n",
    "\n",
    "# Also a triple quote string\n",
    "another_triple_quote = \"\"\"Welcome to the Python programming language. Ready, 1, 2, 3, Go!\"\"\"\n",
    "\n",
    "# Using the str() function\n",
    "string_function = str(123.45)  # str() converts float data type to string data type"
   ]
  },
  {
   "cell_type": "markdown",
   "metadata": {},
   "source": [
    "## String properties in Python"
   ]
  },
  {
   "cell_type": "markdown",
   "metadata": {},
   "source": [
    "### Inmutability\n",
    "This means that we cannot update the characters in a string. For example, we cannot delete an element from a string or try to assign a new element at any of its index positions. If we try to update the string, it throws a ```TypeError```:\n",
    "\n",
    "\n",
    "```python\n",
    "immutable_string = \"Accountability\"\n",
    "\n",
    "# Assign a new element at index 0\n",
    "immutable_string[0] = 'B'\n",
    "\n",
    "---------------------------------------------------------------------------\n",
    "TypeError                                 Traceback (most recent call last)\n",
    "~\\AppData\\Local\\Temp/ipykernel_42292/2351953155.py in <module>\n",
    "      2 \n",
    "      3 # Assign a new element at index 0\n",
    "----> 4 immutable_string[0] = 'B'\n",
    "\n",
    "TypeError: 'str' object does not support item assignment\n",
    "```\n",
    "\n",
    "We can, however, reassign a string to the immutable_string variable, but we should note that they aren’t the same string because they don’t point to the same object in memory. Python doesn’t update the old string object; it creates a new one, as we can see by the ids:\n",
    "\n",
    "```python\n",
    "immutable_string = \"Accountability\"\n",
    "print(id(immutable_string)) # prints 1545476899056\n",
    "\n",
    "immutable_string = \"Bccountability\"\n",
    "print(id(immutable_string)) # prints 1545460751408\n",
    "\n",
    "test_immutable = immutable_string\n",
    "print(id(test_immutable)) # prints 1545460751408\n",
    "```\n"
   ]
  },
  {
   "cell_type": "markdown",
   "metadata": {},
   "source": [
    "### Consecuences of inmutability\n",
    "\n",
    "Assume that we have a large string named document, and our\n",
    "goal is to produce a new string, letters, that contains only the alphabetic characters\n",
    "of the original string (e.g., with spaces, numbers, and punctuation removed). It may\n",
    "be tempting to compose a result through repeated concatenation, as follows."
   ]
  },
  {
   "cell_type": "code",
   "execution_count": 6,
   "metadata": {},
   "outputs": [],
   "source": [
    "document = \"01:01:40. This is a wonderful time to learn some more Python code!\"\n",
    "# WARNING: do not do this\n",
    "letters = ''# start with empty string\n",
    "for c in document:\n",
    "    if c.isalpha( ):\n",
    "        letters += c # concatenate alphabetic character"
   ]
  },
  {
   "cell_type": "markdown",
   "metadata": {},
   "source": [
    "While the preceding code fragment accomplishes the goal, it may be terribly\n",
    "inefficient. Because strings are immutable, the command, letters += c, would\n",
    "presumably compute the concatenation, letters + c, as a new string instance and\n",
    "then reassign the identifier, letters, to that result. Constructing that new string\n",
    "would require time proportional to its length. If the final result has n characters, the\n",
    "series of concatenations would take time proportional to the familiar sum 1+ 2+\n",
    "3+···+n, and therefore its temporal complexity would be $O(n^2)$. Some later implementations of the\n",
    "Python interpreter have developed an optimization to allow such code to complete\n",
    "in linear time, but this is not guaranteed for all Python implementations.\n",
    "\n",
    "\n",
    "A more standard Python idiom to guarantee linear time composition of a string\n",
    "is to use a temporary list to store individual pieces, and then to rely on the join\n",
    "method of the str class to compose the final result. Using this technique with our\n",
    "previous example would appear as follows:\n"
   ]
  },
  {
   "cell_type": "code",
   "execution_count": 8,
   "metadata": {},
   "outputs": [],
   "source": [
    "document = \"01:01:40. This is a wonderful time to learn some more Python code!\"\n",
    "\n",
    "temp = list() # Start with an empty list\n",
    "\n",
    "for c in document:\n",
    "    if c.isalpha():\n",
    "        temp.append(c)      # Append an alphabetic character to the temporal list\n",
    "letters = ''.join(temp)     # Compose overall result"
   ]
  },
  {
   "cell_type": "markdown",
   "metadata": {},
   "source": [
    "Another alternative, using a generator comprehension"
   ]
  },
  {
   "cell_type": "code",
   "execution_count": 7,
   "metadata": {},
   "outputs": [],
   "source": [
    "letters = ''.join(l for l in document if l.isalpha())"
   ]
  },
  {
   "cell_type": "markdown",
   "metadata": {},
   "source": [
    "## String operators\n",
    "\n",
    "- **Concatenation**: Creates a **new string** from joining the two provided strings. Time complexity ~ $O(n+m)$.\n",
    "```python\n",
    "    a = \"this\"\n",
    "    b = \"is a concatenated string\"\n",
    "    c = a + b\n",
    "\n",
    "```\n",
    "\n",
    "- **Indexing and slicing**: Same as a Python list.\n",
    "```python\n",
    "    a = \"The same problem over and over\"\n",
    "\n",
    "    print(a[4:8]) # prints \"same\"\n",
    "\n",
    "```\n",
    "\n",
    "- ***in* operator**: Returns ```True``` if the first operand is contained within the second, and ```False``` otherwise. Implementation based on a mix between Boyer-Moore and Horspool, with a few more bells and whistles on the top. For some more background, see: https://web.archive.org/web/20201107074620/http://effbot.org/zone/stringlib.htm. Time complexity ~ $O(n)$\n",
    "```python\n",
    "    >>> s = 'foo'\n",
    "\n",
    "    >>> s in 'That\\'s food for thought.'\n",
    "    True\n",
    "    >>> s in 'That\\'s good for now.'\n",
    "    False\n",
    "```\n"
   ]
  },
  {
   "cell_type": "markdown",
   "metadata": {},
   "source": [
    "## String Methods\n",
    "\n",
    "The following methods are available\n",
    "\n",
    "### Searching for Substrings\n",
    "- **s.count(pattern, start=0, end=len(s))**: Return the number of non-overlapping occurrences of pattern\n",
    "- **s.find(pattern, start=0, end=len(s))**: Return the index starting the leftmost occurrence of pattern; else -1\n",
    "- **s.index(pattern, start=0, end=len(s))**: Similar to find, but raise ValueError if not found\n",
    "- **s.rfind(pattern, start=0, end=len(s))**: Return the index starting the rightmost occurrence of pattern; else -1\n",
    "- **s.rindex(pattern, start=0, end=len(s))**: Similar to rfind, but raise ValueError if not found\n",
    "\n",
    "\n",
    "### Constructing Related Strings\n",
    "\n",
    "- **s.replace(old, new)**: Return a copy of s with all occurrences of old replaced by new\n",
    "- **s.capitalize( )**: Return a copy of s with its first character having uppercase\n",
    "- **s.upper( )**: Return a copy of s with all alphabetic characters in uppercase\n",
    "- **s.lower( )**: Return a copy of s with all alphabetic characters in lowercase\n",
    "- **s.center(width)**: Return a copy of s, padded to width, centered among spaces\n",
    "- **s.ljust(width)**: Return a copy of s, padded to width with trailing spaces\n",
    "- **s.rjust(width)**: Return a copy of s, padded to width with leading spaces\n",
    "- **s.zfill(width)**: Return a copy of s, padded to width with leading zeros\n",
    "- **s.strip( )**: Return a copy of s, with leading and trailing whitespace removed\n",
    "- **s.lstrip( )**: Return a copy of s, with leading whitespace removed\n",
    "- **s.rstrip( )**: Return a copy of s, with trailing whitespace removed\n",
    "\n",
    "### Testing Boolean Conditions\n",
    "- **s.startswith(pattern)**: Return True if pattern is a prefix of string s\n",
    "- **s.endswith(pattern)**: Return True if pattern is a suffix of string s\n",
    "- **s.isspace( )**: Return True if all characters of nonempty string are whitespace\n",
    "- **s.isalpha( )**: Return True if all characters of nonempty string are alphabetic\n",
    "- **s.islower( )**: Return True if there are one or more alphabetic characters, all of which are lowercased\n",
    "- **s.isupper( )**: Return True if there are one or more alphabetic characters, all of which are uppercased\n",
    "- **s.isdigit( )**: Return True if all characters of nonempty string are in 0–9\n",
    "- **s.isdecimal( )**: Return True if all characters of nonempty string represent digits 0–9, including Unicode equivalents\n",
    "- **s.isnumeric( )**: Return True if all characters of nonempty string are numeric Unicode characters (e.g., 0–9, equivalents, fraction characters)\n",
    "- **s.isalnum( )**: Return True if all characters of nonempty string are either alphabetic or numeric (as per above definitions)\n",
    "\n",
    "### Splitting and Joining Strings\n",
    "\n",
    "- **sep.join(strings)** Return the composition of the given sequence of strings, inserting sep as delimiter between each pair\n",
    "```python\n",
    "    print(' and '.join(['red', 'blue', 'yellow'])) # prints 'red and blue and yellow'\n",
    "    print(''.join(['red','blue','yellow'])) # prints 'redblueyellow'\n",
    "```\n",
    "- **s.splitlines( )** Return a list of substrings of s, as delimited by newlines\n",
    "- **s.split(sep, count)** Return a list of substrings of s, as delimited by the first count occurrences of sep. If count is not specified, split on all occurrences. If sep is not specified, use whitespace as delimiter.\n",
    "- **s.rsplit(sep, count)** Similar to split, but using the rightmost occurrences of sep\n",
    "- **s.partition(sep)** Return (head, sep, tail) such that s = head + sep + tail, using leftmost occurrence of sep, if any; else return (s, , )\n",
    "- **s.rpartition(sep)** Return (head, sep, tail) such that s = head + sep + tail,using rightmost occurrence of sep, if any; else return ( , , s)"
   ]
  },
  {
   "cell_type": "markdown",
   "metadata": {},
   "source": [
    "# String Formatting"
   ]
  },
  {
   "cell_type": "markdown",
   "metadata": {},
   "source": [
    "## Format templates\n",
    "\n",
    "The format method of the str class composes a string that includes one or more formatted arguments. The method is invoked with a syntax ```s.format(arg0, arg1, ...)```,\n",
    "where s serves as a formatting string that expresses the desired result with one\n",
    "or more placeholders in which the arguments will be substituted."
   ]
  },
  {
   "cell_type": "code",
   "execution_count": 6,
   "metadata": {},
   "outputs": [
    {
     "name": "stdout",
     "output_type": "stream",
     "text": [
      "Hi Manuel!, nice to see you again. Today is Tuesday, how is your Tuesday going, Manuel?\n"
     ]
    }
   ],
   "source": [
    "template = \"Hi {name}!, nice to see you again. Today is {day}, how is your {day} going, {name}?\"\n",
    "\n",
    "print(template.format(name='Manuel', day='Tuesday'))"
   ]
  },
  {
   "cell_type": "markdown",
   "metadata": {},
   "source": [
    "## Formatted string literals (f-strings)"
   ]
  },
  {
   "cell_type": "code",
   "execution_count": 9,
   "metadata": {},
   "outputs": [
    {
     "name": "stdout",
     "output_type": "stream",
     "text": [
      "x+y = 16, x^y = 20736\n"
     ]
    }
   ],
   "source": [
    "x = 12\n",
    "y = 4\n",
    "\n",
    "print(f\"x+y = {x+y}, x^y = {x**y}\")"
   ]
  },
  {
   "cell_type": "markdown",
   "metadata": {},
   "source": [
    "## Format Specification Mini-Language\n",
    "\n",
    "“Format specifications” are used within replacement fields contained within a format string to define how individual values are presented. They can also be passed directly to the built-in format() function. Each formattable type may define how the format specification is to be interpreted.\n",
    "\n",
    "Most built-in types implement the following options for format specifications, although some of the formatting options are only supported by the numeric types.\n",
    "\n",
    "A general convention is that an empty format specification produces the same result as if you had called str() on the value. A non-empty format specification typically modifies the result.\n",
    "\n",
    "\n",
    "```\n",
    "format_spec     ::=  [[fill]align][sign][z][#][0][width][grouping_option][.precision][type]\n",
    "fill            ::=  <any character>\n",
    "align           ::=  \"<\" | \">\" | \"=\" | \"^\"\n",
    "sign            ::=  \"+\" | \"-\" | \" \"\n",
    "width           ::=  digit+\n",
    "grouping_option ::=  \"_\" | \",\"\n",
    "precision       ::=  digit+\n",
    "type            ::=  \"b\" | \"c\" | \"d\" | \"e\" | \"E\" | \"f\" | \"F\" | \"g\" | \"G\" | \"n\" | \"o\" | \"s\" | \"x\" | \"X\" | \"%\"\n",
    "```"
   ]
  },
  {
   "cell_type": "markdown",
   "metadata": {},
   "source": [
    "### Alignment"
   ]
  },
  {
   "cell_type": "markdown",
   "metadata": {},
   "source": [
    "'<' Forces the field to be left-aligned within the available space (this is the default for most objects).\n",
    "```python\n",
    "    s = \"Python\"\n",
    "    print(f\"This is {s:~>12}\") # prints \"This is Python~~~~~~\"\n",
    "```\n",
    "'>' Forces the field to be right-aligned within the available space (this is the default for numbers).\n",
    "```python\n",
    "    s = \"Python\"\n",
    "    print(f\"This is {s:~>12}\") # prints \"This is ~~~~~~Python\"\n",
    "```\n",
    "'=' Forces the padding to be placed after the sign (if any) but before the digits. This is used for printing fields in the form ‘+000000120’. This alignment option is only valid for numeric types. It becomes the default for numbers when ‘0’ immediately precedes the field width.\n",
    "\n",
    "```python\n",
    "    print(f\"{-58.123:0=10}\") # prints \"-00058.123\"\n",
    "```\n",
    "\n",
    "'^' Forces the field to be centered within the available space.\n",
    "```python\n",
    "    s = \"Python\"\n",
    "    print(f\"This is {s: ^12}\") # prints \"This is    Python   \"\n",
    "    print(f\"This is {s:0^12}\") # prints \"This is 000Python000\"\n",
    "```"
   ]
  },
  {
   "cell_type": "markdown",
   "metadata": {},
   "source": [
    "### Sign\n",
    "\n",
    "The sign option is only valid for number types, and can be one of the following:\n",
    "\n",
    "- '+' indicates that a sign should be used for both positive as well as negative numbers.\n",
    "```python\n",
    "    print(f\"{3.1351:+}\") # prints \"+3.1351\"\n",
    "    print(f\"{-3.1351:+}\") # prints \"-3.1351\"\n",
    "```\n",
    "- '-' indicates that a sign should be used only for negative numbers (this is the default behavior).\n",
    "```python\n",
    "    print(f\"{3.1351:+}\") # prints \"3.1351\"\n",
    "    print(f\"{-3.1351:+}\") # prints \"-3.1351\"\n",
    "```\n",
    "- space indicates that a leading space should be used on positive numbers, and a minus sign on negative numbers.\n",
    "```python\n",
    "    print(f\"{3.1351: }\") # prints \" 3.1351\"\n",
    "    print(f\"{-3.1351: }\") # prints \"-3.1351\"\n",
    "```"
   ]
  },
  {
   "cell_type": "markdown",
   "metadata": {},
   "source": [
    "### The rest\n",
    "\n",
    "width is a decimal integer defining the minimum total field width, including any prefixes, separators, and other formatting characters. If not specified, then the field width will be determined by the content.\n",
    "\n",
    "When no explicit alignment is given, preceding the width field by a zero ('0') character enables sign-aware zero-padding for numeric types. This is equivalent to a fill character of '0' with an alignment type of '='.\n",
    "\n",
    "Changed in version 3.10: Preceding the width field by '0' no longer affects the default alignment for strings.\n",
    "\n",
    "The precision is a decimal integer indicating how many digits should be displayed after the decimal point for presentation types 'f' and 'F', or before and after the decimal point for presentation types 'g' or 'G'. For string presentation types the field indicates the maximum field size - in other words, how many characters will be used from the field content. The precision is not allowed for integer presentation types.\n",
    "\n",
    "Finally, the type determines how the data should be presented.\n",
    "\n",
    "\n",
    "- 'b': Binary format. Outputs the number in base 2.\n",
    "- 'c': Character. Converts the integer to the corresponding unicode character before printing.\n",
    "- 'd': Decimal Integer. Outputs the number in base 10.\n",
    "- 'o': Octal format. Outputs the number in base 8.\n",
    "- 'x': Hex format. Outputs the number in base 16, using lower-case letters for the digits above 9.\n",
    "- 'X': Hex format. Outputs the number in base 16, using upper-case letters for the digits above 9. In case '#' is specified, the prefix '0x' will be upper-cased to '0X' as well.\n",
    "- 'n': Number. This is the same as 'd', except that it uses the current locale setting to insert the appropriate number separator characters.\n",
    "- None: The same as 'd'.\n",
    "\n",
    "\n",
    "```python\n",
    "    import math\n",
    "\n",
    "    # Default behaviour\n",
    "    print(math.pi) # prints \"3.141592653589793\"\n",
    "\n",
    "    # Some examples\n",
    "    print(f\"{math.pi:.5}\")      # prints \"3.1416\"\n",
    "    print(f\"{math.pi:0<10.5}\")  # prints \"3.14160000\"\n",
    "    print(f\"{math.pi: >+10.5}\") # prints \"   +3.1416\"\n",
    "\n",
    "\n",
    "    # More examples examples\n",
    "    print(f\"{13}\")   # prints \"13\"\n",
    "    print(f\"{13:b}\") # prints \"1101\"\n",
    "    print(f\"{13:X}\") # prints \"D\"\n",
    "```"
   ]
  }
 ],
 "metadata": {
  "kernelspec": {
   "display_name": "Python 3.10.0 64-bit",
   "language": "python",
   "name": "python3"
  },
  "language_info": {
   "codemirror_mode": {
    "name": "ipython",
    "version": 3
   },
   "file_extension": ".py",
   "mimetype": "text/x-python",
   "name": "python",
   "nbconvert_exporter": "python",
   "pygments_lexer": "ipython3",
   "version": "3.10.0"
  },
  "orig_nbformat": 4,
  "vscode": {
   "interpreter": {
    "hash": "313bf6c8c0aa60cdc70fd1d66fcb2e4cb141f30452d6e1008df66fbe302f8b61"
   }
  }
 },
 "nbformat": 4,
 "nbformat_minor": 2
}
