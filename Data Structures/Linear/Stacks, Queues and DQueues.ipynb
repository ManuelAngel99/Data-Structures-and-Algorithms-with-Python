{
 "cells": [
  {
   "cell_type": "markdown",
   "metadata": {},
   "source": [
    "# Stacks\n",
    "\n",
    "<center>\n",
    "<figure align = =\"center\">\n",
    "<img  src=images/stacks.jpg style=\"width:30%\">\n",
    "<figcaption align = \"center\"> Stack Data Structure </figcaption>\n",
    "</figure>\n",
    "</center>\n",
    "\n",
    "A **stack** is a collection of objects that are inserted and removed according to the\n",
    "**last-in, first-out (LIFO)** principle. A user may insert objects into a stack at any\n",
    "time, but may only access or remove the most recently inserted object that remains\n",
    "(at the so-called “top” of the stack)"
   ]
  },
  {
   "cell_type": "markdown",
   "metadata": {},
   "source": [
    "### Applications:\n",
    "\n",
    "Stack data structures are useful when the order of actions is important. They ensure that a system does not move onto a new action before completing those before. \n",
    "\n",
    "- **Reversing:**  By default a data stack will reverse whatever is input. For example, if we wanted to reverse the string “Hello World”. We would push() each character onto the stack, and then pop() each character off.\n",
    "- **Undo/redo:**  This approach can be used in editors to implement the undo and redo functionality. The state of the program can be pushed to a stack each time a change is made. In order to undo, use pop() to remove the last change.\n",
    "- **Backtracking:** This can be used when writing an algorithm to solve a problem involving choosing paths, for example a maze. A path is chosen and if it results in a dead end this latest branch in the path must be removed (pop()) and another route chosen. Each time a path is chosen it is pushed to the stack.\n",
    "- **Call stack:** Programming languages use a data stack to execute code. When a function is called it is added to the call-stack and removed once completed.\n",
    "\n",
    "- Internet Web browsers store the addresses of recently visited sites\n",
    "in a stack. Each time a user visits a new site, that site’s address is “pushed” onto the\n",
    "stack of addresses. The browser then allows the user to “pop” back to previously\n",
    "visited sites using the “back” button."
   ]
  },
  {
   "cell_type": "markdown",
   "metadata": {},
   "source": [
    "# The Stack Abstract Data Type\n",
    "\n",
    "Formally, a stack is an abstract\n",
    "data type (ADT) such that an instance S supports the following two methods:\n",
    "- S.push(e): Add element e to the top of stack S.\n",
    "- S.pop( ): Remove and return the top element from the stack S; an error occurs if the stack is empty.\n",
    "\n",
    "Additionally, let us define the following accessor methods for convenience:\n",
    "- S.top( ): Return a reference to the top element of stack S, without removing it; an error occurs if the stack is empty.\n",
    "- S.is empty( ): Return True if stack S does not contain any elements.\n",
    "- len(S): Return the number of elements in stack S"
   ]
  },
  {
   "cell_type": "markdown",
   "metadata": {},
   "source": [
    "# Time Complexity & Space Complexity\n",
    "\n",
    "The following complexities assume that the stack has been implemented using a Linked List. In said case, all of the methods complete in worst-case constant time.\n",
    "\n",
    "**Operation:**\n",
    "- S.push(e): $O(1)$\n",
    "- S.pop(): $O(1)$\n",
    "- S.top(): $O(1)$\n",
    "- len(S): $O(1)$\n",
    "- S.is_empty() $O(1)$\n",
    "\n",
    "**Space complexity:** $O(N)$"
   ]
  },
  {
   "cell_type": "markdown",
   "metadata": {},
   "source": [
    "# Implementation:\n",
    "\n",
    "A stack can be implemented using an array or a Linked List"
   ]
  },
  {
   "cell_type": "markdown",
   "metadata": {},
   "source": [
    "### Using an Array\n",
    "\n",
    "We can implement a stack quite easily by storing its elements in a Python list. The\n",
    "list class already supports adding an element to the end with the append method,\n",
    "and removing the last element with the pop method, so it is natural to align the top\n",
    "of the stack at the end of the list.\n",
    "\n",
    "Although a programmer could directly use the list class in place of a formal\n",
    "stack class, lists also include behaviors (e.g., adding or removing elements from\n",
    "arbitrary positions) that would break the abstraction that the stack ADT represents.\n",
    "Also, the terminology used by the list class does not precisely align with traditional\n",
    "nomenclature for a stack ADT, in particular the distinction between append and\n",
    "push.\n",
    "\n",
    "#### The Adapter Pattern\n",
    "The adapter design pattern applies to any context where we effectively want to\n",
    "modify an existing class so that its methods match those of a related, but different,\n",
    "class or interface. One general way to apply the adapter pattern is to define a new\n",
    "class in such a way that it contains an instance of the existing class as a hidden\n",
    "field, and then to implement each method of the new class using methods of this\n",
    "hidden instance variable. By applying the adapter pattern in this way, we have\n",
    "created a new class that performs some of the same functions as an existing class,\n",
    "but repackaged in a more convenient way\n",
    "\n",
    "\n",
    "#### Disadvantages of using a list as the base for our stack\n",
    "In some contexts, there may be additional knowledge that suggests a maximum size\n",
    "that a stack will reach. Our implementation of ArrayStack begins with an empty list\n",
    "and expands as needed. In the analysis of lists, we emphasized that it is more efficient\n",
    "in practice to construct a list with initial length n than it is to start with an empty\n",
    "list and append n items (even though both approaches run in O(n) time).\n",
    "\n",
    "As an alternate model for a stack, we might wish for the constructor to accept\n",
    "a parameter specifying the maximum capacity of a stack and to initialize the data\n",
    "member to a list of that length. The size of the stack would no longer be\n",
    "synonymous with the length of the list, and pushes and pops of the stack would not\n",
    "require changing the length of the list. Instead, we suggest maintaining a separate\n",
    "integer as an instance variable that denotes the current number of elements in the\n",
    "stack.\n"
   ]
  },
  {
   "cell_type": "code",
   "execution_count": 45,
   "metadata": {},
   "outputs": [
    {
     "name": "stdout",
     "output_type": "stream",
     "text": [
      "Pushed:  0 Current:  [66]\n",
      "Pushed:  1 Current:  [66, 17]\n",
      "Pushed:  2 Current:  [66, 17, 86]\n",
      "Pushed:  3 Current:  [66, 17, 86, 25]\n",
      "Pushed:  4 Current:  [66, 17, 86, 25, 76]\n",
      "Pushed:  5 Current:  [66, 17, 86, 25, 76, 48]\n",
      "Pushed:  6 Current:  [66, 17, 86, 25, 76, 48, 71]\n",
      "Pushed:  7 Current:  [66, 17, 86, 25, 76, 48, 71, 36]\n",
      "Pushed:  8 Current:  [66, 17, 86, 25, 76, 48, 71, 36, 85]\n",
      "Pushed:  9 Current:  [66, 17, 86, 25, 76, 48, 71, 36, 85, 13]\n",
      "\n",
      "\n",
      "Popped:  13 Current:  [66, 17, 86, 25, 76, 48, 71, 36, 85]\n",
      "Popped:  85 Current:  [66, 17, 86, 25, 76, 48, 71, 36]\n",
      "Popped:  36 Current:  [66, 17, 86, 25, 76, 48, 71]\n",
      "Popped:  71 Current:  [66, 17, 86, 25, 76, 48]\n",
      "Popped:  48 Current:  [66, 17, 86, 25, 76]\n",
      "Popped:  76 Current:  [66, 17, 86, 25]\n",
      "Popped:  25 Current:  [66, 17, 86]\n",
      "Popped:  86 Current:  [66, 17]\n",
      "Popped:  17 Current:  [66]\n",
      "Popped:  66 Current:  []\n"
     ]
    },
    {
     "ename": "EmptyStackException",
     "evalue": "",
     "output_type": "error",
     "traceback": [
      "\u001b[1;31m---------------------------------------------------------------------------\u001b[0m",
      "\u001b[1;31mEmptyStackException\u001b[0m                       Traceback (most recent call last)",
      "\u001b[1;32m~\\AppData\\Local\\Temp/ipykernel_43800/690251029.py\u001b[0m in \u001b[0;36m<module>\u001b[1;34m\u001b[0m\n\u001b[0;32m     79\u001b[0m \u001b[0mprint\u001b[0m\u001b[1;33m(\u001b[0m\u001b[1;34m\"\\n\"\u001b[0m\u001b[1;33m)\u001b[0m\u001b[1;33m\u001b[0m\u001b[1;33m\u001b[0m\u001b[0m\n\u001b[0;32m     80\u001b[0m \u001b[1;32mfor\u001b[0m \u001b[0mi\u001b[0m \u001b[1;32min\u001b[0m \u001b[0mrange\u001b[0m\u001b[1;33m(\u001b[0m\u001b[1;36m11\u001b[0m\u001b[1;33m)\u001b[0m\u001b[1;33m:\u001b[0m\u001b[1;33m\u001b[0m\u001b[1;33m\u001b[0m\u001b[0m\n\u001b[1;32m---> 81\u001b[1;33m     \u001b[0mprint\u001b[0m\u001b[1;33m(\u001b[0m\u001b[1;34m\"Popped: \"\u001b[0m\u001b[1;33m,\u001b[0m \u001b[0ma\u001b[0m\u001b[1;33m.\u001b[0m\u001b[0mpop\u001b[0m\u001b[1;33m(\u001b[0m\u001b[1;33m)\u001b[0m\u001b[1;33m,\u001b[0m \u001b[1;34m\"Current: \"\u001b[0m\u001b[1;33m,\u001b[0m \u001b[0ma\u001b[0m\u001b[1;33m)\u001b[0m\u001b[1;33m\u001b[0m\u001b[1;33m\u001b[0m\u001b[0m\n\u001b[0m",
      "\u001b[1;32m~\\AppData\\Local\\Temp/ipykernel_43800/690251029.py\u001b[0m in \u001b[0;36mpop\u001b[1;34m(self)\u001b[0m\n\u001b[0;32m     47\u001b[0m     \u001b[1;32mdef\u001b[0m \u001b[0mpop\u001b[0m\u001b[1;33m(\u001b[0m\u001b[0mself\u001b[0m\u001b[1;33m)\u001b[0m\u001b[1;33m:\u001b[0m\u001b[1;33m\u001b[0m\u001b[1;33m\u001b[0m\u001b[0m\n\u001b[0;32m     48\u001b[0m         \u001b[1;32mif\u001b[0m \u001b[0mself\u001b[0m\u001b[1;33m.\u001b[0m\u001b[0mis_empty\u001b[0m\u001b[1;33m(\u001b[0m\u001b[1;33m)\u001b[0m\u001b[1;33m:\u001b[0m\u001b[1;33m\u001b[0m\u001b[1;33m\u001b[0m\u001b[0m\n\u001b[1;32m---> 49\u001b[1;33m             \u001b[1;32mraise\u001b[0m \u001b[0mEmptyStackException\u001b[0m\u001b[1;33m(\u001b[0m\u001b[1;33m)\u001b[0m\u001b[1;33m\u001b[0m\u001b[1;33m\u001b[0m\u001b[0m\n\u001b[0m\u001b[0;32m     50\u001b[0m \u001b[1;33m\u001b[0m\u001b[0m\n\u001b[0;32m     51\u001b[0m         \u001b[0mtop_element\u001b[0m \u001b[1;33m=\u001b[0m \u001b[0mself\u001b[0m\u001b[1;33m.\u001b[0m\u001b[0m_data\u001b[0m\u001b[1;33m[\u001b[0m\u001b[0mself\u001b[0m\u001b[1;33m.\u001b[0m\u001b[0m_stack_heigth\u001b[0m\u001b[1;33m-\u001b[0m\u001b[1;36m1\u001b[0m\u001b[1;33m]\u001b[0m\u001b[1;33m\u001b[0m\u001b[1;33m\u001b[0m\u001b[0m\n",
      "\u001b[1;31mEmptyStackException\u001b[0m: "
     ]
    }
   ],
   "source": [
    "import random \n",
    "\n",
    "class EmptyStackException(Exception):\n",
    "    \"\"\"Error atempting to access an element from an empry container\"\"\"\n",
    "    pass\n",
    "\n",
    "class FullStackException(Exception):\n",
    "    \"\"\"Error atempting to insert an element into a full container\"\"\"\n",
    "    pass\n",
    "\n",
    "class ArrayStack:\n",
    "    \"\"\"\n",
    "        Implementation of a Stack DS based on an array with maximum predefined capacity.\n",
    "    \"\"\"\n",
    "\n",
    "    def __init__(self, max_size: int):\n",
    "        super().__init__()\n",
    "\n",
    "        self._stack_heigth = 0\n",
    "\n",
    "        if max_size > 0:\n",
    "            self.capacity = max_size\n",
    "        else:\n",
    "            raise ValueError(\"max_size should be greater than zero\")\n",
    "\n",
    "        self._data = [None]*self.capacity\n",
    "\n",
    "    def is_empty(self):\n",
    "        if self._stack_heigth > 0:\n",
    "            return False\n",
    "\n",
    "        return True\n",
    "\n",
    "    def is_full(self):\n",
    "        if self._stack_heigth >= self.capacity:\n",
    "            return True\n",
    "        else:\n",
    "            return False\n",
    "\n",
    "    def push(self, e):\n",
    "        if self.is_full():\n",
    "            raise FullStackException()\n",
    "\n",
    "        self._data[self._stack_heigth] = (e)\n",
    "        self._stack_heigth += 1\n",
    "\n",
    "    def pop(self):\n",
    "        if self.is_empty():\n",
    "            raise EmptyStackException()\n",
    "\n",
    "        top_element = self._data[self._stack_heigth-1]\n",
    "        self._stack_heigth -= 1\n",
    "\n",
    "        return top_element\n",
    "\n",
    "    def top(self):\n",
    "        if self.is_empty():\n",
    "            raise EmptyStackException()\n",
    "\n",
    "        return self._data[self._stack_heigth]\n",
    "\n",
    "    def __len__(self):\n",
    "        if self.is_empty():\n",
    "            raise EmptyStackException()\n",
    "\n",
    "        return self._stack_heigth\n",
    "\n",
    "    def __repr__(self):\n",
    "        return self._data[0:self._stack_heigth].__repr__()\n",
    "\n",
    "\n",
    "a = ArrayStack(max_size=30)\n",
    "\n",
    "\n",
    "for i in range(10):\n",
    "    a.push(random.randint(0, 100))\n",
    "    print(\"Pushed: \", i, \"Current: \", a)\n",
    "\n",
    "print(\"\\n\")\n",
    "\n",
    "# Let's cause an exception on  purpose by trying to pop 11 elements\n",
    "for i in range(11):\n",
    "    print(\"Popped: \", a.pop(), \"Current: \", a)\n"
   ]
  },
  {
   "cell_type": "markdown",
   "metadata": {},
   "source": [
    "### Using a Linked List\n",
    "\n",
    "To represent individual nodes of the list, we develop a lightweight Node class.\n",
    "This class will never be directly exposed to the user of our stack class, so we will\n",
    "formally define it as a nonpublic, nested class of our eventual LinkedStack class"
   ]
  },
  {
   "cell_type": "code",
   "execution_count": 14,
   "metadata": {},
   "outputs": [
    {
     "name": "stdout",
     "output_type": "stream",
     "text": [
      "Pushed:  79 Current:  [79]\n",
      "Pushed:  55 Current:  [55, 79]\n",
      "Pushed:  35 Current:  [35, 55, 79]\n",
      "Pushed:  28 Current:  [28, 35, 55, 79]\n",
      "Pushed:  49 Current:  [49, 28, 35, 55, 79]\n",
      "Pushed:  32 Current:  [32, 49, 28, 35, 55, 79]\n",
      "Pushed:  79 Current:  [79, 32, 49, 28, 35, 55, 79]\n",
      "Pushed:  5 Current:  [5, 79, 32, 49, 28, 35, 55, 79]\n",
      "Pushed:  32 Current:  [32, 5, 79, 32, 49, 28, 35, 55, 79]\n",
      "Pushed:  6 Current:  [6, 32, 5, 79, 32, 49, 28, 35, 55, 79]\n",
      "\n",
      "\n",
      "Popped:  6 Current:  [32, 5, 79, 32, 49, 28, 35, 55, 79]\n",
      "Popped:  32 Current:  [5, 79, 32, 49, 28, 35, 55, 79]\n",
      "Popped:  5 Current:  [79, 32, 49, 28, 35, 55, 79]\n",
      "Popped:  79 Current:  [32, 49, 28, 35, 55, 79]\n",
      "Popped:  32 Current:  [49, 28, 35, 55, 79]\n",
      "Popped:  49 Current:  [28, 35, 55, 79]\n",
      "Popped:  28 Current:  [35, 55, 79]\n",
      "Popped:  35 Current:  [55, 79]\n",
      "Popped:  55 Current:  [79]\n",
      "Popped:  79 Current:  []\n"
     ]
    },
    {
     "ename": "EmptyStackException",
     "evalue": "",
     "output_type": "error",
     "traceback": [
      "\u001b[1;31m---------------------------------------------------------------------------\u001b[0m",
      "\u001b[1;31mEmptyStackException\u001b[0m                       Traceback (most recent call last)",
      "\u001b[1;32m~\\AppData\\Local\\Temp/ipykernel_18468/1328699552.py\u001b[0m in \u001b[0;36m<module>\u001b[1;34m\u001b[0m\n\u001b[0;32m    100\u001b[0m \u001b[1;31m# Let's cause an exception on  purpose by trying to pop 11 elements\u001b[0m\u001b[1;33m\u001b[0m\u001b[1;33m\u001b[0m\u001b[0m\n\u001b[0;32m    101\u001b[0m \u001b[1;32mfor\u001b[0m \u001b[0mi\u001b[0m \u001b[1;32min\u001b[0m \u001b[0mrange\u001b[0m\u001b[1;33m(\u001b[0m\u001b[1;36m11\u001b[0m\u001b[1;33m)\u001b[0m\u001b[1;33m:\u001b[0m\u001b[1;33m\u001b[0m\u001b[1;33m\u001b[0m\u001b[0m\n\u001b[1;32m--> 102\u001b[1;33m     \u001b[0mprint\u001b[0m\u001b[1;33m(\u001b[0m\u001b[1;34m\"Popped: \"\u001b[0m\u001b[1;33m,\u001b[0m \u001b[0ma\u001b[0m\u001b[1;33m.\u001b[0m\u001b[0mpop\u001b[0m\u001b[1;33m(\u001b[0m\u001b[1;33m)\u001b[0m\u001b[1;33m,\u001b[0m \u001b[1;34m\"Current: \"\u001b[0m\u001b[1;33m,\u001b[0m \u001b[0ma\u001b[0m\u001b[1;33m)\u001b[0m\u001b[1;33m\u001b[0m\u001b[1;33m\u001b[0m\u001b[0m\n\u001b[0m",
      "\u001b[1;32m~\\AppData\\Local\\Temp/ipykernel_18468/1328699552.py\u001b[0m in \u001b[0;36mpop\u001b[1;34m(self)\u001b[0m\n\u001b[0;32m     40\u001b[0m \u001b[1;33m\u001b[0m\u001b[0m\n\u001b[0;32m     41\u001b[0m         \u001b[1;32mif\u001b[0m \u001b[0mself\u001b[0m\u001b[1;33m.\u001b[0m\u001b[0mis_empty\u001b[0m\u001b[1;33m(\u001b[0m\u001b[1;33m)\u001b[0m\u001b[1;33m:\u001b[0m\u001b[1;33m\u001b[0m\u001b[1;33m\u001b[0m\u001b[0m\n\u001b[1;32m---> 42\u001b[1;33m             \u001b[1;32mraise\u001b[0m \u001b[0mEmptyStackException\u001b[0m\u001b[1;33m(\u001b[0m\u001b[1;33m)\u001b[0m\u001b[1;33m\u001b[0m\u001b[1;33m\u001b[0m\u001b[0m\n\u001b[0m\u001b[0;32m     43\u001b[0m \u001b[1;33m\u001b[0m\u001b[0m\n\u001b[0;32m     44\u001b[0m         \u001b[0mreturn_value\u001b[0m \u001b[1;33m=\u001b[0m \u001b[0mself\u001b[0m\u001b[1;33m.\u001b[0m\u001b[0m_head\u001b[0m\u001b[1;33m.\u001b[0m\u001b[0m_data\u001b[0m\u001b[1;33m\u001b[0m\u001b[1;33m\u001b[0m\u001b[0m\n",
      "\u001b[1;31mEmptyStackException\u001b[0m: "
     ]
    }
   ],
   "source": [
    "import random\n",
    "\n",
    "class EmptyStackException(Exception):\n",
    "    \"\"\"Error atempting to access an element from an empry container\"\"\"\n",
    "    pass\n",
    "\n",
    "\n",
    "class LinkedStack:\n",
    "    class _Node:\n",
    "        __slots__ = '_data', '_next'                # streamline memory usage\n",
    "\n",
    "        def __init__(self, data, next) -> None:\n",
    "            self._data = data\n",
    "            self._next = next\n",
    "\n",
    "\n",
    "    def __init__(self):\n",
    "        self._head = None\n",
    "        self._size = 0\n",
    "\n",
    "    def push(self, value):\n",
    "        \"\"\"\n",
    "        The push function adds a new value to the top of the stack.\n",
    "        \n",
    "        :param value: The value to be inserted\n",
    "        :return: The value of the node that was just added to the linked list\n",
    "        \"\"\"\n",
    "        self._head = self._Node(value, self._head)\n",
    "        self._size += 1\n",
    "\n",
    "        return self._head._data\n",
    "\n",
    "    def pop(self):\n",
    "        \"\"\"\n",
    "        The pop function removes the element at the top of the stack and returns it. If \n",
    "        the stack is empty, an exception is raised.\n",
    "        \n",
    "        :return: The value of the item that was removed\n",
    "        \"\"\"\n",
    "\n",
    "        if self.is_empty():\n",
    "            raise EmptyStackException()\n",
    "        \n",
    "        return_value = self._head._data\n",
    "\n",
    "        self._head = self._head._next\n",
    "        self._size -= 1\n",
    "\n",
    "        return return_value\n",
    "    \n",
    "    def top(self):\n",
    "        \"\"\"\n",
    "        The top function returns the top element of the Stack. If the stack is empty, \n",
    "        it raises an EmptyStackException.\n",
    "        \n",
    "        :return: The data of the head node\n",
    "        \"\"\"\n",
    "        if self.is_empty():\n",
    "            raise EmptyStackException()\n",
    "\n",
    "        return self._head._data\n",
    "\n",
    "    def is_empty(self):\n",
    "        \"\"\"\n",
    "        The is_empty function returns True if the Stack is empty and False otherwise.\n",
    "        \n",
    "        :return: True if the stack is empty and false otherwise\n",
    "        \"\"\"\n",
    "        if self._size > 0:\n",
    "            return False\n",
    "\n",
    "        return True\n",
    "\n",
    "    def __repr__(self):\n",
    "\n",
    "        if self.is_empty():\n",
    "            return \"[]\"\n",
    "    \n",
    "        values = list()\n",
    "\n",
    "        current = self._head\n",
    "        values.append(current._data)\n",
    "        \n",
    "        while current._next:\n",
    "            current = current._next\n",
    "            values.append(current._data)\n",
    "\n",
    "        return str(values)\n",
    "\n",
    "\n",
    "a = LinkedStack()\n",
    "\n",
    "\n",
    "for i in range(10):\n",
    "    a.push(random.randint(0, 100))\n",
    "    print(\"Pushed: \", a.top(), \"Current: \", a)\n",
    "\n",
    "print(\"\\n\")\n",
    "\n",
    "# Let's cause an exception on  purpose by trying to pop 11 elements\n",
    "for i in range(11):\n",
    "    print(\"Popped: \", a.pop(), \"Current: \", a)"
   ]
  },
  {
   "cell_type": "markdown",
   "metadata": {},
   "source": [
    "## Applications"
   ]
  },
  {
   "cell_type": "markdown",
   "metadata": {},
   "source": [
    "### Reversing data"
   ]
  },
  {
   "cell_type": "code",
   "execution_count": 45,
   "metadata": {},
   "outputs": [],
   "source": [
    "from collections import deque\n",
    "\n",
    "def reverse_file(filename):\n",
    "    original = open(filename)\n",
    "    stack = deque()\n",
    "    for line in original:\n",
    "        stack.append(line.rstrip('\\n'))\n",
    "\n",
    "    original.close()\n",
    "\n",
    "    while len(stack) > 0: \n",
    "        print(stack.pop())"
   ]
  },
  {
   "cell_type": "code",
   "execution_count": 46,
   "metadata": {},
   "outputs": [
    {
     "name": "stdout",
     "output_type": "stream",
     "text": [
      "Different data structures and algorithms implemented from scratch in Python.\n",
      "\n",
      "# Data-Structures-and-Algorithms-with-Python\n"
     ]
    }
   ],
   "source": [
    "reverse_file('../../README.md')"
   ]
  },
  {
   "cell_type": "markdown",
   "metadata": {},
   "source": [
    "### Matching Parentheses and HTML Tags"
   ]
  },
  {
   "cell_type": "code",
   "execution_count": 74,
   "metadata": {},
   "outputs": [
    {
     "name": "stdout",
     "output_type": "stream",
     "text": [
      "Input:                             (), is matched?:  True\n",
      "Input:          ((( )(( )){([( )])})), is matched?:  True\n",
      "Input:                )(( )){([( )])}, is matched?:  False\n"
     ]
    }
   ],
   "source": [
    "from collections import deque\n",
    "\n",
    "def is_matched(expr):\n",
    "    grouping_symbols  = {\"(\": \")\", \"[\": \"]\", \"{\": \"}\"}\n",
    "\n",
    "    stack = deque()\n",
    "    for c in expr:\n",
    "        if c in grouping_symbols.keys():\n",
    "            stack.append(c)\n",
    "        elif c in grouping_symbols.values():\n",
    "            if len(stack) == 0:\n",
    "                return False\n",
    "            if grouping_symbols[stack.pop()] != c:\n",
    "                return False\n",
    "\n",
    "    return len(stack) == 0\n",
    "\n",
    "print(f\"Input: {'()':>30}, is matched?: \", is_matched('()'))\n",
    "print(f\"Input: {'((( )(( )){([( )])}))':>30}, is matched?: \", is_matched('((( )(( )){([( )])}))'))\n",
    "print(f\"Input: {')(( )){([( )])}':>30}, is matched?: \", is_matched(': )(( )){([( )])}'))"
   ]
  },
  {
   "cell_type": "code",
   "execution_count": 110,
   "metadata": {},
   "outputs": [
    {
     "name": "stdout",
     "output_type": "stream",
     "text": [
      "False\n",
      "True\n",
      "True\n"
     ]
    }
   ],
   "source": [
    "from collections import deque\n",
    "\n",
    "def is_matched_html(raw):\n",
    "\n",
    "    j = raw.find('<')\n",
    "\n",
    "    stack = deque()\n",
    "    \n",
    "    while j != -1:\n",
    "        k = raw.find('>', j)\n",
    "\n",
    "        if k == -1:\n",
    "            return False\n",
    "\n",
    "        tag = raw[j+1:k]\n",
    "\n",
    "        if tag.startswith('/'):\n",
    "            if len(stack) == 0:\n",
    "                return False\n",
    "            elif tag[1:] != stack.pop():\n",
    "                return False\n",
    "        else:\n",
    "            stack.append(tag)\n",
    "\n",
    "        j = raw.find('<', k+1)\n",
    "\n",
    "    # Check if the stack is empty (ie: if every tag is has a closing tag associated with it)\n",
    "    return len(stack) == 0\n",
    "\n",
    "\n",
    "print(is_matched_html(\"<body>\"))\n",
    "print(is_matched_html(\"<body></body>\"))\n",
    "print(is_matched_html(\"<body><h1> blah blah </h1> <p> More blah blah image photo</p></body>\"))"
   ]
  },
  {
   "cell_type": "markdown",
   "metadata": {},
   "source": [
    "### Checking redundant Parentheses"
   ]
  },
  {
   "cell_type": "code",
   "execution_count": 130,
   "metadata": {},
   "outputs": [
    {
     "name": "stdout",
     "output_type": "stream",
     "text": [
      "Input                    a, output: False\n",
      "Input                  (a), output: True\n",
      "Input                (a+b), output: False\n",
      "Input              ((a+b)), output: True\n",
      "Input            ((a+b)+c), output: False\n",
      "Input            (c+(a+b)), output: False\n",
      "Input    (c+(a+b)*((d+e))), output: True\n"
     ]
    }
   ],
   "source": [
    "from collections import deque\n",
    "\n",
    "def test_case(input, function):\n",
    "    print(f\"Input {input:>20}, output: {function(input)}\")\n",
    "\n",
    "def check_redundant_parentheses(expr):\n",
    "    stack = deque()\n",
    "\n",
    "    for c in expr:\n",
    "        if c != ')':\n",
    "            stack.append(c)\n",
    "        else:\n",
    "            count = 0\n",
    "            while stack[-1] != '(':\n",
    "                if stack.pop() in '+-*/':\n",
    "                    count += 1\n",
    "                \n",
    "            stack.pop()\n",
    "\n",
    "            if count == 0:\n",
    "                return  True\n",
    "\n",
    "    return False\n",
    "\n",
    "test_case('a', check_redundant_parentheses)\n",
    "test_case('(a)', check_redundant_parentheses)\n",
    "test_case('(a+b)', check_redundant_parentheses)\n",
    "test_case('((a+b))', check_redundant_parentheses)\n",
    "test_case('((a+b)+c)', check_redundant_parentheses)\n",
    "test_case('(c+(a+b))', check_redundant_parentheses)\n",
    "test_case('(c+(a+b)*((d+e)))', check_redundant_parentheses)"
   ]
  },
  {
   "cell_type": "code",
   "execution_count": 185,
   "metadata": {},
   "outputs": [
    {
     "name": "stdout",
     "output_type": "stream",
     "text": [
      "Input                  abc, output: abc\n",
      "Input                    (, output: \n",
      "Input                    ), output: \n",
      "Input                   (), output: ()\n",
      "Input                 ))((, output: \n",
      "Input                 (ab), output: (ab)\n",
      "Input              a)b(c)d, output: ab(c)d\n",
      "Input            (a(b(c)d), output: a(b(c)d)\n"
     ]
    }
   ],
   "source": [
    "from collections import deque\n",
    "\n",
    "def test_case(input, function):\n",
    "    print(f\"Input {input:>20}, output: {function(input)}\")\n",
    "\n",
    "def min_remove_to_make_valid(s):\n",
    "    stack = deque()\n",
    "\n",
    "    valid_string_elements = list(s)\n",
    "\n",
    "    for idx, c in enumerate(s):\n",
    "        if c == ')':\n",
    "            if len(stack) == 0:\n",
    "                valid_string_elements[idx] = ''\n",
    "            else:\n",
    "                stack.pop()\n",
    "        elif c == '(':\n",
    "            stack.append(idx)\n",
    "\n",
    "    for pos in stack:\n",
    "        valid_string_elements[pos] = ''\n",
    "\n",
    "\n",
    "    return \"\".join(valid_string_elements)\n",
    "\n",
    "test_case('abc', min_remove_to_make_valid)\n",
    "test_case('(', min_remove_to_make_valid)\n",
    "test_case(')', min_remove_to_make_valid)\n",
    "test_case('()', min_remove_to_make_valid)\n",
    "test_case('))((', min_remove_to_make_valid)\n",
    "test_case('(ab)', min_remove_to_make_valid)\n",
    "test_case(\"a)b(c)d\",min_remove_to_make_valid)\n",
    "test_case(\"(a(b(c)d)\",min_remove_to_make_valid)"
   ]
  },
  {
   "cell_type": "markdown",
   "metadata": {},
   "source": [
    "## Some LeetCode problems:"
   ]
  },
  {
   "cell_type": "markdown",
   "metadata": {},
   "source": [
    "- https://leetcode.com/problems/simplify-path/\n",
    "- https://leetcode.com/problems/min-stack/\n",
    "\n",
    "\n",
    "#### Parentheses questions:\n",
    "- https://leetcode.com/problems/valid-parentheses/\n",
    "- https://leetcode.com/problems/minimum-remove-to-make-valid-parentheses/\n",
    "- https://leetcode.com/problems/longest-valid-parentheses/\n",
    "\n",
    "#### Calculator questions:"
   ]
  },
  {
   "cell_type": "markdown",
   "metadata": {},
   "source": [
    "# Queues"
   ]
  },
  {
   "cell_type": "markdown",
   "metadata": {},
   "source": [
    "# DQueues"
   ]
  },
  {
   "cell_type": "markdown",
   "metadata": {},
   "source": []
  }
 ],
 "metadata": {
  "kernelspec": {
   "display_name": "Python 3.10.0 64-bit",
   "language": "python",
   "name": "python3"
  },
  "language_info": {
   "codemirror_mode": {
    "name": "ipython",
    "version": 3
   },
   "file_extension": ".py",
   "mimetype": "text/x-python",
   "name": "python",
   "nbconvert_exporter": "python",
   "pygments_lexer": "ipython3",
   "version": "3.10.0"
  },
  "orig_nbformat": 4,
  "vscode": {
   "interpreter": {
    "hash": "313bf6c8c0aa60cdc70fd1d66fcb2e4cb141f30452d6e1008df66fbe302f8b61"
   }
  }
 },
 "nbformat": 4,
 "nbformat_minor": 2
}
